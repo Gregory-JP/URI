{
 "cells": [
  {
   "cell_type": "code",
   "execution_count": null,
   "id": "4430103f",
   "metadata": {},
   "outputs": [],
   "source": [
    "import math\n",
    "\n",
    "x1, y1 = list(map(float, input().split()))\n",
    "x2, y2 = list(map(float, input().split()))\n",
    "\n",
    "distance = math.sqrt(pow(x2 - x1, 2) + pow(y2 - y1, 2))\n",
    "\n",
    "print(f'{distance:.4f}')"
   ]
  }
 ],
 "metadata": {
  "kernelspec": {
   "display_name": "Python 3 (ipykernel)",
   "language": "python",
   "name": "python3"
  },
  "language_info": {
   "codemirror_mode": {
    "name": "ipython",
    "version": 3
   },
   "file_extension": ".py",
   "mimetype": "text/x-python",
   "name": "python",
   "nbconvert_exporter": "python",
   "pygments_lexer": "ipython3",
   "version": "3.9.7"
  }
 },
 "nbformat": 4,
 "nbformat_minor": 5
}
