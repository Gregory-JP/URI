{
 "cells": [
  {
   "cell_type": "code",
   "execution_count": null,
   "id": "68e2de7c",
   "metadata": {},
   "outputs": [],
   "source": [
    "par = []\n",
    "\n",
    "impar = []\n",
    "\n",
    "for i in range(15):\n",
    "    valor = int(input())\n",
    "    if valor % 2 == 0:\n",
    "        par.append(valor)\n",
    "    else:\n",
    "        impar.append(valor)\n",
    "    \n",
    "    if len(par) == 5:\n",
    "        ix = 0\n",
    "        for v in par:\n",
    "            print(f'par[{ix}] = {v}')\n",
    "            ix += 1\n",
    "        \n",
    "        par = []\n",
    "    \n",
    "    if len(impar) == 5:\n",
    "        ix = 0\n",
    "        for v in impar:\n",
    "            print(f'impar[{ix}] = {v}')\n",
    "            ix += 1\n",
    "        \n",
    "        impar = []\n",
    "\n",
    "if len(impar) > 0:\n",
    "    ix = 0\n",
    "    for v in impar:\n",
    "        print(f'impar[{ix}] = {v}')\n",
    "        ix += 1\n",
    "\n",
    "if len(par) > 0:\n",
    "    ix = 0\n",
    "    for v in par:\n",
    "        print(f'par[{ix}] = {v}')\n",
    "        ix += 1"
   ]
  }
 ],
 "metadata": {
  "kernelspec": {
   "display_name": "Python 3 (ipykernel)",
   "language": "python",
   "name": "python3"
  },
  "language_info": {
   "codemirror_mode": {
    "name": "ipython",
    "version": 3
   },
   "file_extension": ".py",
   "mimetype": "text/x-python",
   "name": "python",
   "nbconvert_exporter": "python",
   "pygments_lexer": "ipython3",
   "version": "3.9.7"
  }
 },
 "nbformat": 4,
 "nbformat_minor": 5
}
