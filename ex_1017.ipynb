{
 "cells": [
  {
   "cell_type": "code",
   "execution_count": null,
   "id": "bbb37b82",
   "metadata": {},
   "outputs": [],
   "source": [
    "t = int(input())\n",
    "v = int(input())\n",
    "\n",
    "c = 12\n",
    "\n",
    "litros = t * v / 12\n",
    "\n",
    "print(f'{litros:.3f}')"
   ]
  }
 ],
 "metadata": {
  "kernelspec": {
   "display_name": "Python 3 (ipykernel)",
   "language": "python",
   "name": "python3"
  },
  "language_info": {
   "codemirror_mode": {
    "name": "ipython",
    "version": 3
   },
   "file_extension": ".py",
   "mimetype": "text/x-python",
   "name": "python",
   "nbconvert_exporter": "python",
   "pygments_lexer": "ipython3",
   "version": "3.9.7"
  }
 },
 "nbformat": 4,
 "nbformat_minor": 5
}
