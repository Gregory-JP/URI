{
 "cells": [
  {
   "cell_type": "code",
   "execution_count": 1,
   "id": "d7af9735",
   "metadata": {},
   "outputs": [
    {
     "name": "stdout",
     "output_type": "stream",
     "text": [
      "6\n",
      "4\n"
     ]
    }
   ],
   "source": [
    "def primos_func(n):\n",
    "    p = list(range(2, n))\n",
    "\n",
    "    for i in range(2, int((n ** 1/2) + 1)):\n",
    "        if i in p:\n",
    "            for j in range(i ** 2, n, i):\n",
    "                if j in p:\n",
    "                    p.remove(j)\n",
    "\n",
    "    return p\n",
    "\n",
    "primos = []\n",
    "grupo = []\n",
    "posicao = 0\n",
    "n = 1\n",
    "cont = 0\n",
    "\n",
    "while n > 0:\n",
    "    n = int(input())\n",
    "    cont = n\n",
    "\n",
    "    remover = 0\n",
    "    grupo = list(range(1, n + 1))\n",
    "\n",
    "    while len(grupo) > len(primos) + 1:\n",
    "        primos = primos_func(cont)\n",
    "        cont += 1\n",
    "\n",
    "    while len(grupo) > 1:\n",
    "\n",
    "        m = primos.pop(0)\n",
    "        remover += (m - 1)\n",
    "\n",
    "        while remover >= n:\n",
    "            remover -= n\n",
    "\n",
    "        del grupo[remover]\n",
    "        n -= 1\n",
    "    posicao = grupo.pop(0)\n",
    "\n",
    "    print(posicao)\n",
    "    break"
   ]
  },
  {
   "cell_type": "code",
   "execution_count": 27,
   "id": "a0bef679",
   "metadata": {},
   "outputs": [],
   "source": [
    "lista = [x for x in range(1, 30) if x % 2 != 0 and not x % x == 2]"
   ]
  },
  {
   "cell_type": "code",
   "execution_count": 28,
   "id": "026f260a",
   "metadata": {},
   "outputs": [
    {
     "data": {
      "text/plain": [
       "[1, 3, 5, 7, 9, 11, 13, 15, 17, 19, 21, 23, 25, 27, 29]"
      ]
     },
     "execution_count": 28,
     "metadata": {},
     "output_type": "execute_result"
    }
   ],
   "source": [
    "lista"
   ]
  },
  {
   "cell_type": "code",
   "execution_count": null,
   "id": "55269cfd",
   "metadata": {},
   "outputs": [],
   "source": []
  },
  {
   "cell_type": "code",
   "execution_count": null,
   "id": "03c722c1",
   "metadata": {},
   "outputs": [],
   "source": []
  },
  {
   "cell_type": "code",
   "execution_count": null,
   "id": "c2c0b1ec",
   "metadata": {},
   "outputs": [],
   "source": []
  },
  {
   "cell_type": "code",
   "execution_count": null,
   "id": "6328c100",
   "metadata": {},
   "outputs": [],
   "source": []
  },
  {
   "cell_type": "code",
   "execution_count": null,
   "id": "c124c746",
   "metadata": {},
   "outputs": [],
   "source": []
  },
  {
   "cell_type": "code",
   "execution_count": null,
   "id": "f251d813",
   "metadata": {},
   "outputs": [],
   "source": []
  },
  {
   "cell_type": "code",
   "execution_count": null,
   "id": "11f7b107",
   "metadata": {},
   "outputs": [],
   "source": []
  },
  {
   "cell_type": "code",
   "execution_count": null,
   "id": "eea8ab23",
   "metadata": {},
   "outputs": [],
   "source": []
  },
  {
   "cell_type": "code",
   "execution_count": 49,
   "id": "0963d247",
   "metadata": {},
   "outputs": [],
   "source": [
    "def primos_func(n):\n",
    "    p = list(range(1, n))\n",
    "\n",
    "    for i in range(2, int((n**1/2) + 1)):\n",
    "        if i in p:\n",
    "            for j in range(i ** 2, n, i):\n",
    "                if j in p:\n",
    "                    p.remove(j)\n",
    "\n",
    "    return p"
   ]
  },
  {
   "cell_type": "code",
   "execution_count": 50,
   "id": "be3aae73",
   "metadata": {},
   "outputs": [
    {
     "data": {
      "text/plain": [
       "[1,\n",
       " 2,\n",
       " 3,\n",
       " 5,\n",
       " 7,\n",
       " 11,\n",
       " 13,\n",
       " 17,\n",
       " 19,\n",
       " 23,\n",
       " 29,\n",
       " 31,\n",
       " 37,\n",
       " 41,\n",
       " 43,\n",
       " 47,\n",
       " 53,\n",
       " 59,\n",
       " 61,\n",
       " 67,\n",
       " 71,\n",
       " 73,\n",
       " 79,\n",
       " 83,\n",
       " 89,\n",
       " 97]"
      ]
     },
     "execution_count": 50,
     "metadata": {},
     "output_type": "execute_result"
    }
   ],
   "source": [
    "primos_func(100)"
   ]
  },
  {
   "cell_type": "code",
   "execution_count": null,
   "id": "e528869f",
   "metadata": {},
   "outputs": [],
   "source": []
  }
 ],
 "metadata": {
  "kernelspec": {
   "display_name": "Python 3",
   "language": "python",
   "name": "python3"
  },
  "language_info": {
   "codemirror_mode": {
    "name": "ipython",
    "version": 3
   },
   "file_extension": ".py",
   "mimetype": "text/x-python",
   "name": "python",
   "nbconvert_exporter": "python",
   "pygments_lexer": "ipython3",
   "version": "3.8.8"
  }
 },
 "nbformat": 4,
 "nbformat_minor": 5
}
