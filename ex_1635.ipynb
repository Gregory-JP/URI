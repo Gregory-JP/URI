{
 "cells": [
  {
   "cell_type": "code",
   "execution_count": 62,
   "id": "c13bb9a8",
   "metadata": {},
   "outputs": [
    {
     "name": "stdout",
     "output_type": "stream",
     "text": [
      "2 1\n"
     ]
    }
   ],
   "source": [
    "p, a = input().split(\" \")\n",
    "\n",
    "p = int(p)\n",
    "\n",
    "a = int(a)\n"
   ]
  },
  {
   "cell_type": "code",
   "execution_count": 63,
   "id": "f4924858",
   "metadata": {},
   "outputs": [
    {
     "name": "stdout",
     "output_type": "stream",
     "text": [
      "CDU 30.7\n",
      "SPD 20.8\n"
     ]
    }
   ],
   "source": [
    "percentuais = {}\n",
    "\n",
    "for i in range(p):\n",
    "    partido = str(input('')).upper()\n",
    "    percent = partido.split(\" \")\n",
    "    percentuais[percent[0]] = float(percent[1])"
   ]
  },
  {
   "cell_type": "code",
   "execution_count": 85,
   "id": "17fed830",
   "metadata": {},
   "outputs": [
    {
     "ename": "TypeError",
     "evalue": "'NoneType' object cannot be interpreted as an integer",
     "output_type": "error",
     "traceback": [
      "\u001b[1;31m---------------------------------------------------------------------------\u001b[0m",
      "\u001b[1;31mTypeError\u001b[0m                                 Traceback (most recent call last)",
      "\u001b[1;32m<ipython-input-85-47e53f01e6d7>\u001b[0m in \u001b[0;36m<module>\u001b[1;34m\u001b[0m\n\u001b[0;32m      6\u001b[0m \u001b[0mopers_input\u001b[0m \u001b[1;33m=\u001b[0m \u001b[1;33m[\u001b[0m\u001b[1;33m]\u001b[0m\u001b[1;33m\u001b[0m\u001b[1;33m\u001b[0m\u001b[0m\n\u001b[0;32m      7\u001b[0m \u001b[1;33m\u001b[0m\u001b[0m\n\u001b[1;32m----> 8\u001b[1;33m \u001b[1;32mfor\u001b[0m \u001b[0mi\u001b[0m \u001b[1;32min\u001b[0m \u001b[0mrange\u001b[0m\u001b[1;33m(\u001b[0m\u001b[0ma\u001b[0m\u001b[1;33m)\u001b[0m\u001b[1;33m:\u001b[0m\u001b[1;33m\u001b[0m\u001b[1;33m\u001b[0m\u001b[0m\n\u001b[0m\u001b[0;32m      9\u001b[0m     \u001b[0mcondi\u001b[0m \u001b[1;33m=\u001b[0m \u001b[0mstr\u001b[0m\u001b[1;33m(\u001b[0m\u001b[0minput\u001b[0m\u001b[1;33m(\u001b[0m\u001b[1;34m''\u001b[0m\u001b[1;33m)\u001b[0m\u001b[1;33m)\u001b[0m\u001b[1;33m\u001b[0m\u001b[1;33m\u001b[0m\u001b[0m\n\u001b[0;32m     10\u001b[0m     \u001b[0mv\u001b[0m \u001b[1;33m=\u001b[0m \u001b[0mcondi\u001b[0m\u001b[1;33m.\u001b[0m\u001b[0msplit\u001b[0m\u001b[1;33m(\u001b[0m\u001b[1;34m\" \"\u001b[0m\u001b[1;33m)\u001b[0m\u001b[1;33m\u001b[0m\u001b[1;33m\u001b[0m\u001b[0m\n",
      "\u001b[1;31mTypeError\u001b[0m: 'NoneType' object cannot be interpreted as an integer"
     ]
    }
   ],
   "source": [
    "lista = []\n",
    "comp = ['<', '>', '<=', '>=', '=']\n",
    "oper = ['+', '-', '/', '*']\n",
    "result = []\n",
    "\n",
    "opers_input = []\n",
    "\n",
    "for i in range(a):\n",
    "    condi = str(input(''))\n",
    "    v = condi.split(\" \")\n",
    "    lista.append(v)\n",
    "    \n",
    "for i in lista:\n",
    "    for j in i:\n",
    "        if j in comp:\n",
    "            #print(j)\n",
    "            opers_input.append(j)\n",
    "            \n",
    "for i in lista:\n",
    "     for j in i:\n",
    "            if j in oper:\n",
    "                #print(j)\n",
    "                opers_input.append(j)\n",
    "\n",
    "\n",
    "print(opers_input)"
   ]
  },
  {
   "cell_type": "code",
   "execution_count": 84,
   "id": "2a6bc798",
   "metadata": {},
   "outputs": [
    {
     "name": "stdout",
     "output_type": "stream",
     "text": [
      "+\n",
      ">\n"
     ]
    }
   ],
   "source": [
    "for i in lista:\n",
    "    for j in i:        \n",
    "        if j in opers_input:\n",
    "            print(j)"
   ]
  },
  {
   "cell_type": "code",
   "execution_count": null,
   "id": "b03ba335",
   "metadata": {},
   "outputs": [],
   "source": []
  }
 ],
 "metadata": {
  "kernelspec": {
   "display_name": "Python 3 (ipykernel)",
   "language": "python",
   "name": "python3"
  },
  "language_info": {
   "codemirror_mode": {
    "name": "ipython",
    "version": 3
   },
   "file_extension": ".py",
   "mimetype": "text/x-python",
   "name": "python",
   "nbconvert_exporter": "python",
   "pygments_lexer": "ipython3",
   "version": "3.9.7"
  }
 },
 "nbformat": 4,
 "nbformat_minor": 5
}
