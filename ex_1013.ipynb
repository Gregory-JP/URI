{
 "cells": [
  {
   "cell_type": "code",
   "execution_count": null,
   "id": "9ee48513",
   "metadata": {},
   "outputs": [],
   "source": [
    "import math\n",
    "\n",
    "valor = input().split(\" \")\n",
    "\n",
    "a, b, c = valor\n",
    "\n",
    "maior = (int(a) + int(b) + abs(int(a) - int(b))) / 2\n",
    "\n",
    "resultado = (int(maior) + int(c) + abs(int(maior) - int(c))) / 2\n",
    "\n",
    "print(f'{resultado:.0f} eh o maior')"
   ]
  }
 ],
 "metadata": {
  "kernelspec": {
   "display_name": "Python 3 (ipykernel)",
   "language": "python",
   "name": "python3"
  },
  "language_info": {
   "codemirror_mode": {
    "name": "ipython",
    "version": 3
   },
   "file_extension": ".py",
   "mimetype": "text/x-python",
   "name": "python",
   "nbconvert_exporter": "python",
   "pygments_lexer": "ipython3",
   "version": "3.9.7"
  }
 },
 "nbformat": 4,
 "nbformat_minor": 5
}
