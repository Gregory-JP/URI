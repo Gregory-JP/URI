{
 "cells": [
  {
   "cell_type": "code",
   "execution_count": null,
   "id": "e8363303",
   "metadata": {},
   "outputs": [],
   "source": [
    "a,b,c = list(map(float,input().split()))\n",
    "\n",
    "triangle = 0.5 * a * c\n",
    "\n",
    "circle = 3.14159 * c**2\n",
    "\n",
    "trapezium = ( a + b) / 2.0 * c\n",
    "\n",
    "square = b**2\n",
    "\n",
    "rectangle = a * b\n",
    "\n",
    "print(f'TRIANGULO: {triangle:.3f}')\n",
    "\n",
    "print(f'CIRCULO: {circle:.3f}')\n",
    "\n",
    "print(f'TRAPEZIO: {trapezium:.3f}')\n",
    "\n",
    "print(f'QUADRADO: {square:.3f}')\n",
    "\n",
    "print(f'RETANGULO: {rectangle:.3f}')"
   ]
  }
 ],
 "metadata": {
  "kernelspec": {
   "display_name": "Python 3 (ipykernel)",
   "language": "python",
   "name": "python3"
  },
  "language_info": {
   "codemirror_mode": {
    "name": "ipython",
    "version": 3
   },
   "file_extension": ".py",
   "mimetype": "text/x-python",
   "name": "python",
   "nbconvert_exporter": "python",
   "pygments_lexer": "ipython3",
   "version": "3.9.7"
  }
 },
 "nbformat": 4,
 "nbformat_minor": 5
}
