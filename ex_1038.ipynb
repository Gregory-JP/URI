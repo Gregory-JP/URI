{
 "cells": [
  {
   "cell_type": "code",
   "execution_count": null,
   "id": "ff3a4fc1",
   "metadata": {},
   "outputs": [],
   "source": [
    "menu = {\n",
    "    1: 4.00,\n",
    "    2: 4.50,\n",
    "    3: 5.0,\n",
    "    4: 2.0,\n",
    "    5: 1.50,\n",
    "}\n",
    "\n",
    "codigo, qntd = input().split(' ')\n",
    "codigo = int(codigo)\n",
    "qntd = int(qntd)\n",
    "\n",
    "total = menu[codigo] * qntd\n",
    "\n",
    "print(f'Total: R$ {total:.2f}')"
   ]
  }
 ],
 "metadata": {
  "kernelspec": {
   "display_name": "Python 3 (ipykernel)",
   "language": "python",
   "name": "python3"
  },
  "language_info": {
   "codemirror_mode": {
    "name": "ipython",
    "version": 3
   },
   "file_extension": ".py",
   "mimetype": "text/x-python",
   "name": "python",
   "nbconvert_exporter": "python",
   "pygments_lexer": "ipython3",
   "version": "3.9.7"
  }
 },
 "nbformat": 4,
 "nbformat_minor": 5
}
