{
 "cells": [
  {
   "cell_type": "code",
   "execution_count": 3,
   "id": "b7ef2277",
   "metadata": {},
   "outputs": [],
   "source": [
    "# Faça um programa que leia um vetor X[10]. \n",
    "#Substitua a seguir, todos os valores nulos e negativos do vetor X por 1. Em seguida mostre o vetor X."
   ]
  },
  {
   "cell_type": "code",
   "execution_count": null,
   "id": "90e09a91",
   "metadata": {},
   "outputs": [],
   "source": [
    "a = []\n",
    "\n",
    "for i in range(100):\n",
    "    x = float(input())\n",
    "    a.append(x)\n",
    "    \n",
    "    if x <= 10.0:\n",
    "        print(f'A[{i}] = {x}')"
   ]
  }
 ],
 "metadata": {
  "kernelspec": {
   "display_name": "Python 3 (ipykernel)",
   "language": "python",
   "name": "python3"
  },
  "language_info": {
   "codemirror_mode": {
    "name": "ipython",
    "version": 3
   },
   "file_extension": ".py",
   "mimetype": "text/x-python",
   "name": "python",
   "nbconvert_exporter": "python",
   "pygments_lexer": "ipython3",
   "version": "3.9.7"
  }
 },
 "nbformat": 4,
 "nbformat_minor": 5
}
