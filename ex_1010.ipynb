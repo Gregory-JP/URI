{
 "cells": [
  {
   "cell_type": "code",
   "execution_count": null,
   "id": "3537b998",
   "metadata": {},
   "outputs": [],
   "source": [
    "linha1 = input().split(\" \")\n",
    "linha2 = input().split(\" \")\n",
    "\n",
    "cod1, qtde1, valor1 = linha1\n",
    "cod2, qtde2, valor2 = linha2\n",
    "\n",
    "total = (int(qtde1) * float(valor1)) + (int(qtde2) * float(valor2))\n",
    "\n",
    "print(f'VALOR A PAGAR: R$ {total:.2f}')"
   ]
  }
 ],
 "metadata": {
  "kernelspec": {
   "display_name": "Python 3 (ipykernel)",
   "language": "python",
   "name": "python3"
  },
  "language_info": {
   "codemirror_mode": {
    "name": "ipython",
    "version": 3
   },
   "file_extension": ".py",
   "mimetype": "text/x-python",
   "name": "python",
   "nbconvert_exporter": "python",
   "pygments_lexer": "ipython3",
   "version": "3.9.7"
  }
 },
 "nbformat": 4,
 "nbformat_minor": 5
}
