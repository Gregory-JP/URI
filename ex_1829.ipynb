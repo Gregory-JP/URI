{
 "cells": [
  {
   "cell_type": "code",
   "execution_count": 4,
   "id": "fb91d64b",
   "metadata": {},
   "outputs": [
    {
     "name": "stdout",
     "output_type": "stream",
     "text": [
      "4\n",
      " 99^99\n",
      " 100!\n",
      " 57^199\n",
      " 874!\n",
      " 123^488\n",
      " 123!\n",
      " 7601^5684\n",
      " 7449!\n",
      "A competição terminou empatada!\n",
      "Rodada #1 Lucas foi o vencedor\n",
      "Rodada #2 Pedro foi o vencedor\n",
      "Rodada #3 Lucas foi o vencedor\n",
      "Rodada #4 Pedro foi o vencedor\n"
     ]
    }
   ],
   "source": [
    "# ex1829: exercicio chato uri\n",
    "\n",
    "def fatorial(n):\n",
    "    f = 1\n",
    "    for i in range(1, n + 1):\n",
    "        f *= i\n",
    "    \n",
    "    return f\n",
    "\n",
    "pontos_lucas = []\n",
    "pontos_pedro = []\n",
    "\n",
    "n = int(input())\n",
    "\n",
    "for i in range(n):\n",
    "    lucas = str(input(' '))\n",
    "    lucas = lucas.split('^')\n",
    "\n",
    "    result_lucas = (int(lucas[0]) ** int(lucas[1]))\n",
    "\n",
    "    pedro = str(input(' '))\n",
    "    pedro = pedro.replace('!', '')\n",
    "\n",
    "    result_pedro = fatorial(int(pedro))\n",
    "\n",
    "    if result_lucas > result_pedro:\n",
    "        pontos_lucas.append(1)\n",
    "        pontos_pedro.append(0)\n",
    "    if result_lucas < result_pedro:\n",
    "        pontos_pedro.append(1)\n",
    "        pontos_lucas.append(0)\n",
    "\n",
    "if sum(pontos_lucas) > sum(pontos_pedro):\n",
    "    print('Campeao: Lucas!')\n",
    "elif sum(pontos_lucas) < sum(pontos_pedro):\n",
    "    print('Campeao: Pedro!')\n",
    "else:\n",
    "    print('A competição terminou empatada!')\n",
    "\n",
    "for i in range(n):\n",
    "    if pontos_lucas[i] > pontos_pedro[i]:\n",
    "        print(f'Rodada #{i+1} Lucas foi o vencedor')\n",
    "    else:\n",
    "        print(f'Rodada #{i+1} Pedro foi o vencedor')"
   ]
  },
  {
   "cell_type": "code",
   "execution_count": null,
   "id": "7c2014fb",
   "metadata": {},
   "outputs": [],
   "source": []
  }
 ],
 "metadata": {
  "kernelspec": {
   "display_name": "Python 3 (ipykernel)",
   "language": "python",
   "name": "python3"
  },
  "language_info": {
   "codemirror_mode": {
    "name": "ipython",
    "version": 3
   },
   "file_extension": ".py",
   "mimetype": "text/x-python",
   "name": "python",
   "nbconvert_exporter": "python",
   "pygments_lexer": "ipython3",
   "version": "3.9.7"
  }
 },
 "nbformat": 4,
 "nbformat_minor": 5
}
