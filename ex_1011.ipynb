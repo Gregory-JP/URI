{
 "cells": [
  {
   "cell_type": "code",
   "execution_count": null,
   "id": "49f10db6",
   "metadata": {},
   "outputs": [],
   "source": [
    "raio = float(input())\n",
    "volume = ((4/3) * 3.14159) * raio**3 \n",
    "\n",
    "print(f'VOLUME = {volume:.3f}')"
   ]
  }
 ],
 "metadata": {
  "kernelspec": {
   "display_name": "Python 3 (ipykernel)",
   "language": "python",
   "name": "python3"
  },
  "language_info": {
   "codemirror_mode": {
    "name": "ipython",
    "version": 3
   },
   "file_extension": ".py",
   "mimetype": "text/x-python",
   "name": "python",
   "nbconvert_exporter": "python",
   "pygments_lexer": "ipython3",
   "version": "3.9.7"
  }
 },
 "nbformat": 4,
 "nbformat_minor": 5
}
